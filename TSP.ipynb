{
 "cells": [
  {
   "cell_type": "markdown",
   "id": "a65bb067",
   "metadata": {},
   "source": [
    "# Make the map"
   ]
  },
  {
   "cell_type": "code",
   "execution_count": 35,
   "id": "ae93cf8b",
   "metadata": {},
   "outputs": [],
   "source": [
    "import random\n",
    "from matplotlib import pyplot as plt\n",
    "import seaborn as sns"
   ]
  },
  {
   "cell_type": "code",
   "execution_count": 36,
   "id": "e45f6d0e",
   "metadata": {},
   "outputs": [],
   "source": [
    "NUMBER_OF_CITIES = 15"
   ]
  },
  {
   "cell_type": "code",
   "execution_count": 37,
   "id": "da25f54c",
   "metadata": {},
   "outputs": [],
   "source": [
    "lat = [random.randint(1 , 20) for i in range(NUMBER_OF_CITIES)]"
   ]
  },
  {
   "cell_type": "code",
   "execution_count": 38,
   "id": "c54795f2",
   "metadata": {},
   "outputs": [],
   "source": [
    "long = [random.randint(1 , 20) for i in range(NUMBER_OF_CITIES)]"
   ]
  },
  {
   "cell_type": "code",
   "execution_count": 39,
   "id": "d1735071",
   "metadata": {},
   "outputs": [],
   "source": [
    "locations = {}"
   ]
  },
  {
   "cell_type": "code",
   "execution_count": 40,
   "id": "7a72aacb",
   "metadata": {},
   "outputs": [],
   "source": [
    "def isLocationUnique(lat , long):\n",
    "    for i in range(NUMBER_OF_CITIES) :\n",
    "        if (lat[i] , long[i]) in locations:\n",
    "            print(\"Doplicate city found !\")\n",
    "        else :\n",
    "            locations[str(i)] = (lat[i] , long[i])"
   ]
  },
  {
   "cell_type": "code",
   "execution_count": 41,
   "id": "0f410a0e",
   "metadata": {},
   "outputs": [],
   "source": [
    "isLocationUnique(lat=lat , long=long)"
   ]
  },
  {
   "cell_type": "code",
   "execution_count": null,
   "id": "2098911f",
   "metadata": {},
   "outputs": [],
   "source": []
  },
  {
   "cell_type": "code",
   "execution_count": 49,
   "id": "cf94af9f",
   "metadata": {},
   "outputs": [],
   "source": [
    "def plotCities (lat , long ):\n",
    "    plt.scatter(lat, long)\n",
    "\n",
    "    # Add labels and a title\n",
    "    plt.xlabel('X-axis')\n",
    "    plt.ylabel('Y-axis')\n",
    "    plt.title('Cities Locations')\n",
    "\n",
    "    # Display the plot\n",
    "    plt.show()\n"
   ]
  },
  {
   "cell_type": "code",
   "execution_count": 50,
   "id": "2cc92d68",
   "metadata": {},
   "outputs": [
    {
     "data": {
      "image/png": "[encoded data removed]",
      "text/plain": [
       "<Figure size 640x480 with 1 Axes>"
      ]
     },
     "metadata": {},
     "output_type": "display_data"
    }
   ],
   "source": [
    "plotCities(lat , long)"
   ]
  },
  {
   "cell_type": "code",
   "execution_count": null,
   "id": "2f3bdbb6",
   "metadata": {},
   "outputs": [],
   "source": []
  },
  {
   "cell_type": "code",
   "execution_count": null,
   "id": "601ef90e",
   "metadata": {},
   "outputs": [],
   "source": []
  },
  {
   "cell_type": "code",
   "execution_count": null,
   "id": "0e46d6cb",
   "metadata": {},
   "outputs": [],
   "source": []
  },
  {
   "cell_type": "code",
   "execution_count": null,
   "id": "ee2b7e2e",
   "metadata": {},
   "outputs": [],
   "source": []
  },
  {
   "cell_type": "code",
   "execution_count": null,
   "id": "3c43a628",
   "metadata": {},
   "outputs": [],
   "source": []
  },
  {
   "cell_type": "code",
   "execution_count": null,
   "id": "f099c009",
   "metadata": {},
   "outputs": [],
   "source": []
  },
  {
   "cell_type": "code",
   "execution_count": null,
   "id": "24a2bbab",
   "metadata": {},
   "outputs": [],
   "source": []
  },
  {
   "cell_type": "code",
   "execution_count": null,
   "id": "dfd7cb89",
   "metadata": {},
   "outputs": [],
   "source": []
  },
  {
   "cell_type": "code",
   "execution_count": null,
   "id": "8e34ed88",
   "metadata": {},
   "outputs": [],
   "source": []
  },
  {
   "cell_type": "code",
   "execution_count": null,
   "id": "5fe8f3bc",
   "metadata": {},
   "outputs": [],
   "source": []
  },
  {
   "cell_type": "code",
   "execution_count": null,
   "id": "7f1becb3",
   "metadata": {},
   "outputs": [],
   "source": []
  },
  {
   "cell_type": "code",
   "execution_count": null,
   "id": "5501c779",
   "metadata": {},
   "outputs": [],
   "source": []
  },
  {
   "cell_type": "code",
   "execution_count": null,
   "id": "01fc69f5",
   "metadata": {},
   "outputs": [],
   "source": []
  },
  {
   "cell_type": "code",
   "execution_count": null,
   "id": "b2baa810",
   "metadata": {},
   "outputs": [],
   "source": []
  }
 ],
 "metadata": {
  "kernelspec": {
   "display_name": "Python 3 (ipykernel)",
   "language": "python",
   "name": "python3"
  },
  "language_info": {
   "codemirror_mode": {
    "name": "ipython",
    "version": 3
   },
   "file_extension": ".py",
   "mimetype": "text/x-python",
   "name": "python",
   "nbconvert_exporter": "python",
   "pygments_lexer": "ipython3",
   "version": "3.9.8"
  }
 },
 "nbformat": 4,
 "nbformat_minor": 5
}
